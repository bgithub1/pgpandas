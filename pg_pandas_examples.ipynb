{
 "cells": [
  {
   "cell_type": "markdown",
   "metadata": {},
   "source": [
    "## Example usage of pg_pandas.py  \n",
    "[(Click here for instructions on how to install Postgres on your local computer)](https://www.tutorialspoint.com/postgresql/postgresql_environment.htm)\n",
    "\n",
    "pg_pandas.py is a module that facilitates the use of Pandas and SqlAlchemy when accessing Postgres databases.  Methods in the class PgPandas allow you to easily populate and read large Postgres tables, especially tables with binary data.\n",
    "\n",
    "#### This ipynb notebook shows the following examples:\n",
    "1. Remove tables and schemas from a postgres database\n",
    "2. Create tables\n",
    "3. Populate different types of tables from pandas DataFrames\n",
    "4. Populate a table with binary blob data from DataFrames"
   ]
  },
  {
   "cell_type": "markdown",
   "metadata": {},
   "source": [
    "___\n",
    "## Section 1.0 -\n",
    "Import data"
   ]
  },
  {
   "cell_type": "code",
   "execution_count": null,
   "metadata": {},
   "outputs": [],
   "source": [
    "import pandas as pd\n",
    "import numpy as np\n",
    "import pg_pandas as pg\n",
    "import os,sys,glob\n",
    "from icrawler.builtin import GoogleImageCrawler"
   ]
  },
  {
   "cell_type": "code",
   "execution_count": null,
   "metadata": {},
   "outputs": [],
   "source": [
    "import importlib\n",
    "importlib.reload(pg)\n"
   ]
  },
  {
   "cell_type": "markdown",
   "metadata": {},
   "source": [
    "___\n",
    "## Section 1.1 -\n",
    "Make sure that the Postgres engine (daemon) is running your computer"
   ]
  },
  {
   "cell_type": "code",
   "execution_count": null,
   "metadata": {},
   "outputs": [],
   "source": [
    "!pg_config --version"
   ]
  },
  {
   "cell_type": "markdown",
   "metadata": {},
   "source": [
    "___\n",
    "## Section 2.0 - \n",
    "Create an instance of PgPandas"
   ]
  },
  {
   "cell_type": "code",
   "execution_count": null,
   "metadata": {},
   "outputs": [],
   "source": [
    "pga2 = pg.PgPandas(databasename='testdb',username='',password='',dburl='localhost')\n",
    "print(f'The tables are: {pga2.engine.table_names()}')"
   ]
  },
  {
   "cell_type": "markdown",
   "metadata": {},
   "source": [
    "___\n",
    "### Section 2.1 - \n",
    "Create a schema called test_schema"
   ]
  },
  {
   "cell_type": "code",
   "execution_count": null,
   "metadata": {},
   "outputs": [],
   "source": [
    "# drop all the tables from test_schema\n",
    "pga2.exec_sql_raw(\"drop table if exists test_schema.craigslist\")\n",
    "pga2.exec_sql_raw(\"drop table if exists test_schema.ohlc\")\n",
    "pga2.exec_sql_raw(\"drop table if exists test_schema.expiry\")\n",
    "pga2.exec_sql_raw(\"drop table if exists test_schema.jpgs\")\n",
    "\n",
    "# recreate test_schema\n",
    "pga2.exec_sql_raw(\"DROP SCHEMA IF EXISTS  test_schema;\")\n",
    "pga2.exec_sql_raw(\"create schema test_schema;\")\n",
    "\n"
   ]
  },
  {
   "cell_type": "markdown",
   "metadata": {},
   "source": [
    "___\n",
    "### Section 2.2 - \n",
    "Create some tables in test_schema"
   ]
  },
  {
   "cell_type": "code",
   "execution_count": null,
   "metadata": {},
   "outputs": [],
   "source": [
    "# Create a table of craigslist data\n",
    "sql = '''\n",
    "create table test_schema.craigslist(\n",
    "    id serial primary key,\n",
    "    geo text,\n",
    "    href text,\n",
    "    listing text);\n",
    "'''\n",
    "pga2.exec_sql_raw(sql)\n",
    "\n",
    "# Create a table for open,high,low,close bar data\n",
    "sql = '''\n",
    "create table test_schema.ohlc(\n",
    "    symbol text not null,\n",
    "    year integer not null,\n",
    "    month integer not null,\n",
    "    day integer not null,\n",
    "    hour integer not null,\n",
    "    minute integer not null,\n",
    "    open numeric not null,\n",
    "    high numeric not null,\n",
    "    low numeric not null,\n",
    "    trading_year integer not null,\n",
    "    trading_month integer not null,\n",
    "    trading_day integer not null,\n",
    "    close numeric not null,\n",
    "    adj_close numeric not null,\n",
    "    volume integer not null,\n",
    "    primary key(symbol,year,month,day,hour,minute));\n",
    "'''\n",
    "pga2.exec_sql_raw(sql)\n",
    "\n",
    "# Create a table for open,high,low,close bar data\n",
    "sql = '''\n",
    "create table test_schema.jpgs(\n",
    "    document_name text not null,\n",
    "    document_binary bytea,\n",
    "    primary key(document_name));\n",
    "'''\n",
    "pga2.exec_sql_raw(sql)\n"
   ]
  },
  {
   "cell_type": "markdown",
   "metadata": {},
   "source": [
    "___\n",
    "## Section 3.0 - \n",
    "Populate the tables that we previous created"
   ]
  },
  {
   "cell_type": "markdown",
   "metadata": {},
   "source": [
    "___\n",
    "### Section 3.1 - \n",
    "1. Read the craigslist csv file\n",
    "2. Populate the craigslist table\n",
    "3. Perform sql selects on the craigslist table"
   ]
  },
  {
   "cell_type": "code",
   "execution_count": null,
   "metadata": {},
   "outputs": [],
   "source": [
    "df_craigs = pd.read_csv('craig_20180210.csv')"
   ]
  },
  {
   "cell_type": "code",
   "execution_count": null,
   "metadata": {},
   "outputs": [],
   "source": [
    "pga2.write_df_to_postgres_using_metadata(df_craigs,'test_schema.craigslist')\n",
    "pga2.get_sql(\"select * from test_schema.craigslist limit 20;\")"
   ]
  },
  {
   "cell_type": "code",
   "execution_count": null,
   "metadata": {},
   "outputs": [],
   "source": [
    "sql = '''\n",
    "select c.geo,count(*) from test_schema.craigslist c \n",
    "where c.href ~ 'bmw' and \n",
    "c.listing ~ '2002' \n",
    "group by c.geo \n",
    "order by count(*) desc \n",
    "limit 3;\n",
    "'''\n",
    "df_c = pga2.get_sql(sql)\n",
    "df_c.head()"
   ]
  },
  {
   "cell_type": "code",
   "execution_count": null,
   "metadata": {},
   "outputs": [],
   "source": [
    "sql = '''\n",
    "select id,geo,listing from test_schema.craigslist c \n",
    "where c.href ~ 'bmw' and \n",
    "c.listing ~ '2002'and  \n",
    "c.geo = 'REPLACE_COUNTY' ;\n",
    "'''\n",
    "sql = sql.replace('REPLACE_COUNTY',str(df_c.iloc[0].geo))\n",
    "df_c = pga2.get_sql(sql)\n",
    "df_c"
   ]
  },
  {
   "cell_type": "markdown",
   "metadata": {},
   "source": [
    "___\n",
    "### Section 3.2 -\n",
    "1. Read the csv data for the securities USO and SPY\n",
    "2. Populate the ohlc table\n",
    "3. Perform sql selects on the ohlc table\n"
   ]
  },
  {
   "cell_type": "code",
   "execution_count": null,
   "metadata": {},
   "outputs": [],
   "source": [
    "SYMBOLS_TO_LOAD = ['USO','SPY']\n",
    "for sym in SYMBOLS_TO_LOAD:\n",
    "    df_sym = pd.read_csv(f'{sym}.csv')\n",
    "    df_sym['symbol'] = sym\n",
    "    df_sym['year'] = df_sym['timestamp'].str[0:4]\n",
    "    df_sym['month'] = df_sym['timestamp'].str[5:7]\n",
    "    df_sym['day'] = df_sym['timestamp'].str[8:10]\n",
    "    df_sym['hour'] = df_sym['timestamp'].str[11:13]\n",
    "    df_sym['minute'] = df_sym['timestamp'].str[14:16]\n",
    "    df_sym['trading_year'] = df_sym.tradingDay.str[0:4]\n",
    "    df_sym['trading_month'] = df_sym.timestamp.str[5:7]\n",
    "    df_sym['trading_day'] = df_sym.timestamp.str[8:10]\n",
    "    adj_close_col = list(filter(lambda c: 'adj' in c,df_sym.columns.values))\n",
    "    adj_close_col = 'close' if len(adj_close_col)==0 else adj_close_col[0]\n",
    "    df_sym['adj_close'] = df_sym.apply(lambda r: r[adj_close_col],axis=1)\n",
    "    cols = ['symbol','year','month','day','hour','minute','trading_year','trading_month','trading_day','open','high','low','close','adj_close','volume']\n",
    "    df_sym = df_sym[cols]\n",
    "    pga2.write_df_to_postgres_using_metadata(df_sym,'test_schema.ohlc')\n",
    "pga2.get_sql('select count(*) from test_schema.ohlc;')\n"
   ]
  },
  {
   "cell_type": "markdown",
   "metadata": {},
   "source": [
    "### Do a group by query of the ohlc table"
   ]
  },
  {
   "cell_type": "code",
   "execution_count": null,
   "metadata": {},
   "outputs": [],
   "source": [
    "sql = '''\n",
    "select symbol,trading_year,trading_month,trading_day, avg(close),count(*)\n",
    "from test_schema.ohlc o\n",
    "group by symbol,trading_year,trading_month,trading_day\n",
    "order by symbol,trading_year,trading_month,trading_day;\n",
    "'''\n",
    "pga2.get_sql(sql)"
   ]
  },
  {
   "cell_type": "markdown",
   "metadata": {},
   "source": [
    "___\n",
    "### Section 3.3 - \n",
    "Load and retrieve binary jpg data\n",
    "1. Fetch sample jpg's using GoogleImageCrawler\n",
    "2. Create a pandas DataFrame of the jpg's and their file paths,\n",
    "3. Load the DataFrame to the postgres table test_schema.jpgs,\n",
    "4. Use an sql statement to retrieve the data from test_schema.jpgs"
   ]
  },
  {
   "cell_type": "code",
   "execution_count": null,
   "metadata": {},
   "outputs": [],
   "source": [
    "try:\n",
    "    for f in glob.glob(\"./temp_folder/cats/*.jpg\"):\n",
    "        os.remove(f)    \n",
    "except Exception as e:\n",
    "    pass\n",
    "google_crawler = GoogleImageCrawler(storage={'root_dir': './temp_folder/cats'})\n",
    "google_crawler.crawl(keyword='cat', max_num=20)\n",
    "doc_full_path_list = [os.path.abspath(f'./temp_folder/cats/{s}') for s in  os.listdir('./temp_folder/cats')]\n",
    "df_doc_binary = pga2.create_df_doc_binary_from_path_list(document_path_list=doc_full_path_list)\n",
    "pga2.write_df_to_postgres_using_metadata(df_doc_binary,'test_schema.jpgs')\n",
    "sql = '''\n",
    "select * from test_schema.jpgs\n",
    "'''\n",
    "df_doc_binary_from_pg = pga2.get_sql(sql)\n",
    "df_doc_binary_from_pg.head()"
   ]
  },
  {
   "cell_type": "markdown",
   "metadata": {},
   "source": [
    "## End"
   ]
  },
  {
   "cell_type": "code",
   "execution_count": null,
   "metadata": {},
   "outputs": [],
   "source": []
  }
 ],
 "metadata": {
  "kernelspec": {
   "display_name": "Python 3",
   "language": "python",
   "name": "python3"
  },
  "language_info": {
   "codemirror_mode": {
    "name": "ipython",
    "version": 3
   },
   "file_extension": ".py",
   "mimetype": "text/x-python",
   "name": "python",
   "nbconvert_exporter": "python",
   "pygments_lexer": "ipython3",
   "version": "3.6.5"
  }
 },
 "nbformat": 4,
 "nbformat_minor": 2
}
